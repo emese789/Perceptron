{
  "nbformat": 4,
  "nbformat_minor": 0,
  "metadata": {
    "colab": {
      "name": "Untitled",
      "provenance": [],
      "collapsed_sections": []
    },
    "kernelspec": {
      "name": "python3",
      "display_name": "Python 3"
    },
    "accelerator": "GPU"
  },
  "cells": [
    {
      "cell_type": "code",
      "metadata": {
        "id": "w84fe5cODT_N",
        "colab_type": "code",
        "colab": {}
      },
      "source": [
        "import numpy as np\n",
        "import matplotlib.pyplot as plt\n",
        "import random\n",
        "import time"
      ],
      "execution_count": 0,
      "outputs": []
    },
    {
      "cell_type": "code",
      "metadata": {
        "id": "U4Fmr1llhL0A",
        "colab_type": "code",
        "colab": {}
      },
      "source": [
        "#in the inputs the first element is the bias\n",
        "inputs = np.array([[0,0,0],[0,1,0],[0,0,1],[1,1,1]])\n",
        "d = [0,0,0,1]"
      ],
      "execution_count": 0,
      "outputs": []
    },
    {
      "cell_type": "code",
      "metadata": {
        "id": "_2NRNI5IE2Ez",
        "colab_type": "code",
        "colab": {}
      },
      "source": [
        "def hardlim(value):\n",
        "  if value >=0:\n",
        "    return 1\n",
        "  else:\n",
        "    return 0"
      ],
      "execution_count": 0,
      "outputs": []
    },
    {
      "cell_type": "code",
      "metadata": {
        "id": "G1xbzxa0DexU",
        "colab_type": "code",
        "colab": {}
      },
      "source": [
        "def PerceptonLearning(data,out):\n",
        "  plt.scatter(data[:,1],data[:,0])\n",
        "  plt.show()\n",
        "  N,n =data.shape\n",
        "  lr = 0.01\n",
        "  w = np.random.randn(n,1)\n",
        "  E = 1\n",
        "  x = np.linspace(-5, 5, 20)\n",
        "  while E!=0:\n",
        "    E=0\n",
        "    for i in range (1,n):\n",
        "      yi = hardlim(np.dot(data[i],w))\n",
        "      ei = out[i] - yi\n",
        "      w = w + lr*ei*data[i].reshape(n,1)\n",
        "      E = E + ei**2\n",
        "    a = [0, -w[0] / w[2]]\n",
        "    c = [-w[0] / w[1], 0]\n",
        "    m = (a[1] - a[0]) / (c[1] - c[0])\n",
        "    plt.plot(x,x*m+a[1])"
      ],
      "execution_count": 0,
      "outputs": []
    },
    {
      "cell_type": "code",
      "metadata": {
        "id": "jhhQWsbUEG7H",
        "colab_type": "code",
        "colab": {
          "base_uri": "https://localhost:8080/",
          "height": 513
        },
        "outputId": "ba974970-3584-4795-b407-2f770eb8d22e"
      },
      "source": [
        "PerceptonLearning(inputs,d)"
      ],
      "execution_count": 71,
      "outputs": [
        {
          "output_type": "display_data",
          "data": {
            "image/png": "[encoded data removed]",
            "text/plain": [
              "<Figure size 432x288 with 1 Axes>"
            ]
          },
          "metadata": {
            "tags": []
          }
        },
        {
          "output_type": "display_data",
          "data": {
            "image/png": "[encoded data removed]",
            "text/plain": [
              "<Figure size 432x288 with 1 Axes>"
            ]
          },
          "metadata": {
            "tags": []
          }
        }
      ]
    },
    {
      "cell_type": "code",
      "metadata": {
        "id": "-HBluRFqj1so",
        "colab_type": "code",
        "colab": {}
      },
      "source": [
        ""
      ],
      "execution_count": 0,
      "outputs": []
    }
  ]
}