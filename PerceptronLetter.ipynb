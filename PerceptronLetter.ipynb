{
  "nbformat": 4,
  "nbformat_minor": 0,
  "metadata": {
    "colab": {
      "name": "Untitled",
      "provenance": [],
      "collapsed_sections": []
    },
    "kernelspec": {
      "name": "python3",
      "display_name": "Python 3"
    },
    "accelerator": "GPU"
  },
  "cells": [
    {
      "cell_type": "code",
      "metadata": {
        "id": "w84fe5cODT_N",
        "colab_type": "code",
        "colab": {}
      },
      "source": [
        "import numpy as np"
      ],
      "execution_count": 0,
      "outputs": []
    },
    {
      "cell_type": "code",
      "metadata": {
        "id": "U4Fmr1llhL0A",
        "colab_type": "code",
        "colab": {}
      },
      "source": [
        "liters = np.array([[1,1,0,1,1,1,1,1,0,1],[1,1,0,0,1,0,0,1,0,0]])\n",
        "tag = np.array([[1,0],[0,1]])"
      ],
      "execution_count": 0,
      "outputs": []
    },
    {
      "cell_type": "code",
      "metadata": {
        "id": "_2NRNI5IE2Ez",
        "colab_type": "code",
        "colab": {}
      },
      "source": [
        "def hardlim(value):\n",
        "  if value >=0:\n",
        "    return 1\n",
        "  else:\n",
        "    return 0"
      ],
      "execution_count": 0,
      "outputs": []
    },
    {
      "cell_type": "code",
      "metadata": {
        "id": "G1xbzxa0DexU",
        "colab_type": "code",
        "colab": {}
      },
      "source": [
        "def PerceptonLearning(data,out):\n",
        "  N,n =data.shape\n",
        "  lr = 0.01\n",
        "  w1 = np.random.randn(n,1)\n",
        "  w2 = np.random.randn(n,1)\n",
        "  E = 1\n",
        "  while E!=0:\n",
        "    E=0\n",
        "    for i in range (N):\n",
        "      yi1 = hardlim(np.dot(data[i],w1))\n",
        "      yi2 = hardlim(np.dot(data[i],w2))\n",
        "      ei1 = out[i][0] - yi1\n",
        "      ei2 = out[i][1] - yi2\n",
        "      w1 = w1 + lr*ei1*data[i].reshape(n,1)\n",
        "      w2 = w2 + lr*ei2*data[i].reshape(n,1)\n",
        "      E = E + ei1**2\n",
        "      E = E + ei2**2\n",
        "  if(yi1==0):\n",
        "    print(\"Letter H\")\n",
        "  if(yi2==1):\n",
        "    print(\"Letter I\")"
      ],
      "execution_count": 0,
      "outputs": []
    },
    {
      "cell_type": "code",
      "metadata": {
        "id": "jhhQWsbUEG7H",
        "colab_type": "code",
        "colab": {
          "base_uri": "https://localhost:8080/",
          "height": 50
        },
        "outputId": "0623de34-bb48-40e5-a3ff-c8df39f0c147"
      },
      "source": [
        "PerceptonLearning(liters,tag)"
      ],
      "execution_count": 84,
      "outputs": [
        {
          "output_type": "stream",
          "text": [
            "Letter H\n",
            "Letter I\n"
          ],
          "name": "stdout"
        }
      ]
    },
    {
      "cell_type": "code",
      "metadata": {
        "id": "K_mMfUU859tm",
        "colab_type": "code",
        "colab": {}
      },
      "source": [
        ""
      ],
      "execution_count": 0,
      "outputs": []
    }
  ]
}